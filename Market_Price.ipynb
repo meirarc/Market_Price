{
  "nbformat": 4,
  "nbformat_minor": 0,
  "metadata": {
    "colab": {
      "provenance": [],
      "collapsed_sections": [],
      "mount_file_id": "1yuiTjhaQf5aXPEJqo0qhF39itHsNP1__",
      "authorship_tag": "ABX9TyNj6ox3Nm1pLkbyb+1MLOia",
      "include_colab_link": true
    },
    "kernelspec": {
      "name": "python3",
      "display_name": "Python 3"
    },
    "language_info": {
      "name": "python"
    }
  },
  "cells": [
    {
      "cell_type": "markdown",
      "metadata": {
        "id": "view-in-github",
        "colab_type": "text"
      },
      "source": [
        "<a href=\"https://colab.research.google.com/github/meirarc/Market_Price/blob/main/Market_Price.ipynb\" target=\"_parent\"><img src=\"https://colab.research.google.com/assets/colab-badge.svg\" alt=\"Open In Colab\"/></a>"
      ]
    },
    {
      "cell_type": "code",
      "execution_count": 89,
      "metadata": {
        "id": "8lmSxBr8Y56z"
      },
      "outputs": [],
      "source": [
        "from __future__ import print_function\n",
        "from bs4 import BeautifulSoup\n",
        "import requests\n",
        "import pandas as pd\n",
        "import re\n",
        "import json\n"
      ]
    },
    {
      "cell_type": "code",
      "source": [
        "enable_print = False\n",
        "filename = \"/content/drive/MyDrive/Colab/Market_Price.csv\""
      ],
      "metadata": {
        "id": "R0C_uRSe4PSx"
      },
      "execution_count": 94,
      "outputs": []
    },
    {
      "cell_type": "code",
      "source": [
        "def print(*args, **kwargs):\n",
        "  if enable_print:\n",
        "    return __builtins__.print(*args, **kwargs)"
      ],
      "metadata": {
        "id": "hdMVz0oGLXW-"
      },
      "execution_count": 91,
      "outputs": []
    },
    {
      "cell_type": "code",
      "source": [
        "def compare_price(current, new):\n",
        "  print(\"(compare_price): current: \",current, \" is blank: \", current == \"\")\n",
        "  print(\"(compare_price): new: \", new, \" is blank: \", new == \"\")\n",
        "  print(\"(compare_price:) \",current, new)\n",
        "\n",
        "  current = float(str(current).replace(\",\",\".\")) if current != \"\" and current is not None else 0 \n",
        "  new = float(str(new).replace(\",\",\".\")) if new != \"\" and new is not None else 0\n",
        "\n",
        "  status = \"\"\n",
        "  status = \"Same Price\" if new == current else status  \n",
        "  status = \"More Expensive\" if new > current else status   \n",
        "  status = \"On Sale\" if new < current else status\n",
        "  return status"
      ],
      "metadata": {
        "id": "HZ07a-XQ_9WX"
      },
      "execution_count": 85,
      "outputs": []
    },
    {
      "cell_type": "code",
      "source": [
        "def marche(item):\n",
        "    webpage = requests.get(item[\"URL\"])\n",
        "    soup = BeautifulSoup(webpage.content, \"html.parser\")\n",
        "    info = soup.find(attrs={\"class\":\"name-and-info\"}).p.get_text()\n",
        "    \n",
        "    product_name = soup.find(attrs={\"class\":\"product-name\"}).get_text()\n",
        "    product_price = float(info.split(\"R$ \",1)[1].split(\"/\",1)[0].replace(\",\",\".\"))\n",
        "    product_unit = info.split(\"R$ \",1)[1].split(\"/\",1)[1]\n",
        "\n",
        "    if product_unit.strip() == \"kg\":\n",
        "      size = \"1\"\n",
        "      price_kg = product_price\n",
        "    else:\n",
        "      size = product_name.split(\" \")[-1]\n",
        "      if size[-1] == \"g\":\n",
        "        size = float(size.replace(\"g\", \"\"))/1000\n",
        "        price_kg = round(product_price/size, 2)\n",
        "        product_unit = \"g\"\n",
        "      else:\n",
        "        if product_unit.strip() == \"un\":\n",
        "          size = \"3\"\n",
        "          price_kg = product_price * 3\n",
        "        else:\n",
        "          size = \"\"\n",
        "          price_kg = \"\"\n",
        "\n",
        "    status = compare_price(item[\"Product Price per Kg\"], price_kg)\n",
        "    \n",
        "    item[\"Product Name\"] = product_name if product_name is not None else \"\"\n",
        "    item[\"Product Price\"] = \"{:.2f}\".format(product_price) if product_price is not None else \"\"\n",
        "    item[\"Product Unit\"] = product_unit if product_unit is not None else \"\"\n",
        "    item[\"Product Size\"] = \"{:.3f}\".format(float(size)) if size is not None else \"\"\n",
        "    item[\"Product Price per Kg\"] = \"{:.2f}\".format(price_kg) if price_kg is not None else \"\"\n",
        "    item[\"Status\"] = status if status is not None else \"\"\n",
        "\n",
        "    return item"
      ],
      "metadata": {
        "id": "363fwqddd8LX"
      },
      "execution_count": 43,
      "outputs": []
    },
    {
      "cell_type": "code",
      "source": [
        "def oba(item):\n",
        "\n",
        "  headers = {\"User-Agent\": \"Mozilla/5.0 (Windows NT 10.0; Win64; x64) AppleWebKit/537.36 (KHTML, like Gecko) Chrome/105.0.0.0 Safari/537.36\"}\n",
        "  webpage = requests.get(item[\"URL\"], headers=headers)\n",
        "  soup = BeautifulSoup(webpage.content, \"html.parser\")\n",
        "  \n",
        "  product_name = \"\"\n",
        "  product_price = \"\"\n",
        "  product_unit = \"\"\n",
        "  size = \"\"\n",
        "  price_kg = \"\"\n",
        "\n",
        "  product_name = soup.find(attrs={\"class\":re.compile(\"ProductDetailsStyles\")})\n",
        "  product_name = product_name if product_name is not None else \"\"\n",
        "  \n",
        "  product_price = soup.find(attrs={\"class\":re.compile(\"ProductDetailsStyles\")})\n",
        "  product_price = product_price if product_price is not None else \"\"\n",
        "  \n",
        "  product_unit = \"\"\n",
        "\n",
        "  status = compare_price(item[\"Product Price per Kg\"], price_kg)\n",
        "\n",
        "  item[\"Product Name\"] = product_name if product_name is not None else \"\"\n",
        "  item[\"Product Price\"] = product_price if product_price is not None else \"\"\n",
        "  item[\"Product Unit\"] = product_unit if product_unit is not None else \"\"\n",
        "  item[\"Product Size\"] = size if size is not None else \"\"\n",
        "  item[\"Product Price per Kg\"] = price_kg if price_kg is not None else \"\"\n",
        "  item[\"Status\"] = status if status is not None else \"\"\n",
        "  \n",
        "  return item"
      ],
      "metadata": {
        "id": "ewn481z9km08"
      },
      "execution_count": 45,
      "outputs": []
    },
    {
      "cell_type": "code",
      "source": [
        "def hakuo(item):\n",
        "  \n",
        "  headers = {\"User-Agent\": \"Mozilla/5.0 (Windows NT 10.0; Win64; x64) AppleWebKit/537.36 (KHTML, like Gecko) Chrome/105.0.0.0 Safari/537.36\"}\n",
        "  webpage = requests.get(item[\"URL\"], headers=headers)\n",
        "  soup = BeautifulSoup(webpage.content, \"html.parser\")\n",
        "  \n",
        "  product_name = \"\"\n",
        "  product_price = \"\"\n",
        "  product_unit = \"\"\n",
        "  size = \"\"\n",
        "  price_kg = \"\"\n",
        "\n",
        "  product_name = item[\"URL\"].split(\"/\")[-1].replace(\"-\", \" \")\n",
        "  product_name = product_name if product_name is not None else \"\"\n",
        "  \n",
        "  product_price = soup.find(attrs={\"class\":re.compile(\"area-preco-detalhe-produto\")})\n",
        "  print(product_price)\n",
        "  product_price = product_price if product_price is not None else \"\"\n",
        "  \n",
        "  product_unit = \"\"\n",
        "\n",
        "  status = compare_price(item[\"Product Price per Kg\"], price_kg)\n",
        "\n",
        "  item[\"Product Name\"] = product_name if product_name is not None else \"\"\n",
        "  item[\"Product Price\"] = product_price if product_price is not None else \"\"\n",
        "  item[\"Product Unit\"] = product_unit if product_unit is not None else \"\"\n",
        "  item[\"Product Size\"] = size if size is not None else \"\"\n",
        "  item[\"Product Price per Kg\"] = price_kg if price_kg is not None else \"\"\n",
        "  item[\"Status\"] = status if status is not None else \"\"\n",
        "  \n",
        "  return item"
      ],
      "metadata": {
        "id": "SMcfOmh_8iPD"
      },
      "execution_count": 46,
      "outputs": []
    },
    {
      "cell_type": "code",
      "source": [
        "def sams(item):\n",
        "  headers = {\"User-Agent\": \"Mozilla/5.0 (Windows NT 10.0; Win64; x64) AppleWebKit/537.36 (KHTML, like Gecko) Chrome/105.0.0.0 Safari/537.36\"}\n",
        "  webpage = requests.get(item[\"URL\"], headers=headers)\n",
        "  soup = BeautifulSoup(webpage.content, \"html.parser\")\n",
        "  \n",
        "  product_name = soup.find(attrs={\"class\":re.compile(\"productBrand\")})\n",
        "  product_name = product_name.get_text().strip() if product_name is not None else \"Error Product Name\"\n",
        "  print(\"(sams) product_name: \",product_name)\n",
        "\n",
        "  product_price  = soup.find(attrs={\"class\":re.compile(\"productShowCasePricePdp\")})\n",
        "  product_price_kg  = soup.find(attrs={\"class\":re.compile(\"productShowCasePriceKgPdp\")})\n",
        "  \n",
        "  price_kg = 0\n",
        "  price = 0\n",
        "  unit = \"\"\n",
        "  \n",
        "  if product_price_kg is not None:\n",
        "    clean_price_kg = product_price_kg.get_text().strip()\n",
        "    if clean_price_kg != \"\":\n",
        "      price_kg = clean_price_kg.split(\" \")[-1].replace(u'\\xa0', ' ').split(\"$\")[-1].replace(\",\",\".\").strip()\n",
        "      unit = clean_price_kg.split(\" \")[0]\n",
        "  print(\"(sams) price_kg: \",price_kg)\n",
        "  print(\"(sams) unit: \",unit)\n",
        "\n",
        "  if product_price is not None:\n",
        "    clean_price = product_price.get_text().strip()\n",
        "    if clean_price != \"\":\n",
        "      price = clean_price.split(\"$\")[-1].replace(\",\",\".\").strip()\n",
        "  print(\"(sams) price: \",price)\n",
        "\n",
        "  product_price = price_kg if price_kg != 0 else price\n",
        "  product_price = product_price if product_price is not None else \"\"\n",
        "  print(\"(sams) product_price: \",product_price)\n",
        "\n",
        "  product_unit = unit if unit != \"\" else \"\"\n",
        "  product_unit = product_unit if product_unit is not None else \"\"\n",
        "  print(\"(sams) product_unit: \", product_unit)\n",
        "\n",
        "    \n",
        "  if product_unit.strip() == \"Preço/Kg\":\n",
        "    size = \"1\"\n",
        "    price_kg = product_price\n",
        "    product_unit = \"kg\"\n",
        "  else:\n",
        "    unit = product_name.strip().split(\" \")[-1]\n",
        "    product_unit = unit\n",
        "    \n",
        "    if product_unit == \"Unidade\":\n",
        "      size = \"3\"\n",
        "      price_kg = \"{:.2f}\".format(float(product_price) * 3) if product_price != \"\" else \"\"\n",
        "      product_unit = \"un\" \n",
        "    else:\n",
        "      if product_unit[-2:].lower() == \"kg\": \n",
        "        size = product_unit[:-2].replace(\",\", \".\")\n",
        "        price_kg = round(float(product_price) / float(size), 2)\n",
        "        product_unit = \"kg\"\n",
        "      else:\n",
        "        print(product_unit)\n",
        "        if product_unit.strip()[-1].lower() == \"g\": \n",
        "          size = float(product_unit[:-1])/1000\n",
        "          price_kg = float(product_price) / size if product_price != \"\" else \"\"\n",
        "          product_unit = \"g\"\n",
        "        else:\n",
        "          if product_name.strip() == \"Batata Pacote\":\n",
        "              size = \"2\"\n",
        "              price_kg = float(product_price) / 2\n",
        "              product_unit = \"kg\"\n",
        "          else:\n",
        "            if product_name.strip() == \"Agrião Verdureira\":\n",
        "              size = \"3\"\n",
        "              price_kg = float(product_price) * 2\n",
        "              product_unit = \"un\"\n",
        "            else:\n",
        "              size = \"\"\n",
        "              price_kg = \"\"\n",
        "              product_unit = \"\"\n",
        "\n",
        "  print(\"(sams) current, item[Product Price per Kg]: \", item[\"Product Price per Kg\"] == \"\")\n",
        "  print(\"(sams) new, price_kg: \", price_kg)\n",
        "  status = compare_price(item[\"Product Price per Kg\"], price_kg)\n",
        "\n",
        "  item[\"Product Name\"] = product_name if product_name is not None else \"\"\n",
        "  item[\"Product Price\"] = product_price if product_price is not None else \"\"\n",
        "  item[\"Product Unit\"] = product_unit if product_unit is not None else \"\"\n",
        "  item[\"Product Size\"] = size if size is not None else \"\"\n",
        "  item[\"Product Price per Kg\"] = price_kg if price_kg is not None else \"\"\n",
        "  item[\"Status\"] = status if status is not None else \"\"\n",
        "\n",
        "  return item"
      ],
      "metadata": {
        "id": "I_fmxubggQCo"
      },
      "execution_count": 95,
      "outputs": []
    },
    {
      "cell_type": "code",
      "source": [
        "def paodeacucar(item):\n",
        "\n",
        "  headers = {\"User-Agent\": \"Mozilla/5.0 (Windows NT 10.0; Win64; x64) AppleWebKit/537.36 (KHTML, like Gecko) Chrome/105.0.0.0 Safari/537.36\"}\n",
        "  webpage = requests.get(item[\"URL\"], headers=headers)\n",
        "  soup = BeautifulSoup(webpage.content, \"html.parser\")\n",
        "  \n",
        "  product_name = soup.find(attrs={\"class\":\"textstyles__TextComponent-w4b5ef-0 iISkjF\"}).get_text().strip()\n",
        "  product_unit = \"\"\n",
        "  size = product_name.split(\" \")[-1]\n",
        "\n",
        "  product_price = soup.find(attrs={\"class\":re.compile(\"CurrentPrice\")})\n",
        "  product_price = float(product_price.p.get_text().split(\"R$ \",1)[1].replace(\",\",\".\")) if product_price is not None else \"\"\n",
        "\n",
        "\n",
        "  if size[-2].lower() == \"k\":\n",
        "    size = float(size.lower().replace(\"kg\", \"\").replace(\",\",\".\"))\n",
        "    price_kg = round(product_price/size, 2) if product_price != \"\" else \"\"\n",
        "    product_unit = \"kg\"\n",
        "  else: \n",
        "    if size[-1] == \"g\":\n",
        "      size = float(size.replace(\"g\", \"\"))\n",
        "      price_kg = round(product_price/size*1000, 2) if product_price != \"\" else \"\"\n",
        "      product_unit = \"g\"\n",
        "    else:\n",
        "      size = \"3\"\n",
        "      product_unit = \"un\"\n",
        "      price_kg = product_price * 3\n",
        "\n",
        "  status = compare_price(item[\"Product Price per Kg\"], price_kg)\n",
        "\n",
        "  item[\"Product Name\"] = product_name if product_name is not None else \"\"\n",
        "  item[\"Product Price\"] = product_price if product_price is not None else \"\"\n",
        "  item[\"Product Unit\"] = product_unit if product_unit is not None else \"\"\n",
        "  item[\"Product Size\"] = size if size is not None else \"\"\n",
        "  item[\"Product Price per Kg\"] = price_kg if price_kg is not None else \"\"\n",
        "  item[\"Status\"] = status if status is not None else \"\"\n",
        "\n",
        "  return item"
      ],
      "metadata": {
        "id": "xG-LkPWXX3aY"
      },
      "execution_count": 68,
      "outputs": []
    },
    {
      "cell_type": "code",
      "source": [
        "df = pd.read_csv(filename, sep=\";\", encoding = \"utf-8\")\n",
        "df[\"Product Price per Kg\"] = df[\"Product Price per Kg\"].str.replace(\",\",\".\")\n",
        "df[\"Product Price\"] = df[\"Product Price\"].str.replace(\",\",\".\")\n",
        "df[\"Product\"] = df[\"Product\"].str.replace(u'\\xa0', u' ')\n",
        "df = df.fillna(\"\")\n",
        "df"
      ],
      "metadata": {
        "id": "x1FknIYXe9n0"
      },
      "execution_count": null,
      "outputs": []
    },
    {
      "cell_type": "code",
      "source": [
        "string = df.to_json(orient = 'records')\n",
        "data = json.loads(string)"
      ],
      "metadata": {
        "id": "TsWtHq-XmQK7"
      },
      "execution_count": 49,
      "outputs": []
    },
    {
      "cell_type": "code",
      "source": [
        "for item in data:\n",
        "  if item[\"URL\"] is not None and item[\"URL\"] != \"\":\n",
        "    marche(item) if item[\"Market\"] == \"St. Marche\" else None\n",
        "    sams(item) if item[\"Market\"] == \"Sams Club\" else None\n",
        "    paodeacucar(item) if item[\"Market\"] == \"Pao de Acucar\" else None\n",
        "    #oba(item) if item[\"Market\"] == \"Oba\" else None\n",
        "    #hakuo(item) if item[\"Market\"] == \"Hakuo\" else None"
      ],
      "metadata": {
        "id": "mJVXg2Z9O185"
      },
      "execution_count": null,
      "outputs": []
    },
    {
      "cell_type": "code",
      "source": [
        "data_df = pd.DataFrame(data)\n",
        "data_df"
      ],
      "metadata": {
        "id": "CgonkX43fl0p"
      },
      "execution_count": null,
      "outputs": []
    },
    {
      "cell_type": "code",
      "source": [
        "df.update(data_df)\n",
        "df"
      ],
      "metadata": {
        "id": "O9HUT_OF_DEB"
      },
      "execution_count": null,
      "outputs": []
    },
    {
      "cell_type": "code",
      "source": [
        "df.to_csv(filename, index=False, sep=\";\", encoding = \"utf-8\")"
      ],
      "metadata": {
        "id": "9pv-HfWzOVB9"
      },
      "execution_count": 73,
      "outputs": []
    },
    {
      "cell_type": "code",
      "source": [
        "df.sort_values(by=[\"Market\"]).query(\"Status == 'On Sale'\")"
      ],
      "metadata": {
        "id": "odblrTAVOW_C"
      },
      "execution_count": null,
      "outputs": []
    }
  ]
}